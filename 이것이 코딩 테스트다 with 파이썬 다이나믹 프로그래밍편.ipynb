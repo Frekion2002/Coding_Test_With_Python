{
 "cells": [
  {
   "cell_type": "code",
   "execution_count": 2,
   "id": "c2b944bc",
   "metadata": {},
   "outputs": [
    {
     "name": "stdout",
     "output_type": "stream",
     "text": [
      "4\n",
      "1 3 1 5\n",
      "8\n"
     ]
    }
   ],
   "source": [
    "# 개미 전사\n",
    "n = int(input())\n",
    "lst = list(map(int, input().split()))\n",
    "dp = [0] * 100\n",
    "\n",
    "dp[0] = lst[0]\n",
    "dp[1] = max(lst[0], lst[1])\n",
    "for i in range(2, n):\n",
    "    dp[i] = max(dp[i - 1], dp[i - 2] + lst[i])\n",
    "print(dp[n - 1])"
   ]
  },
  {
   "cell_type": "code",
   "execution_count": 3,
   "id": "d2586bab",
   "metadata": {},
   "outputs": [
    {
     "name": "stdout",
     "output_type": "stream",
     "text": [
      "6\n",
      "2\n"
     ]
    }
   ],
   "source": [
    "# 1로 만들기\n",
    "\n",
    "x = int(input())\n",
    "\n",
    "d = [0] * 30001\n",
    "\n",
    "for i in range(2, x + 1):\n",
    "    d[i] = d[i - 1] + 1\n",
    "\n",
    "    if i % 2 == 0:\n",
    "        d[i] = min(d[i], d[i // 2] + 1)\n",
    "    \n",
    "    if i % 3 == 0:\n",
    "        d[i] = min(d[i], d[i // 3] + 1)\n",
    "    \n",
    "    if i % 5 == 0:\n",
    "        d[i] = min(d[i], d[i // 5] + 1)\n",
    "    \n",
    "print(d[x])"
   ]
  },
  {
   "cell_type": "code",
   "execution_count": 1,
   "id": "ea80c950",
   "metadata": {},
   "outputs": [
    {
     "name": "stdout",
     "output_type": "stream",
     "text": [
      "3\n",
      "5\n"
     ]
    }
   ],
   "source": [
    "# 바닥 공사\n",
    "\n",
    "n = int(input())\n",
    "d = [0] * 1001\n",
    "\n",
    "d[1] = 1\n",
    "d[2] = 3\n",
    "for i in range(3, n + 1):\n",
    "    d[i] = (d[i - 1] + 2 * d[i - 2]) % 796796\n",
    "\n",
    "print(d[n])"
   ]
  },
  {
   "cell_type": "code",
   "execution_count": 5,
   "id": "19028644-1374-4be8-a257-e79b2d69ec0f",
   "metadata": {},
   "outputs": [
    {
     "name": "stdin",
     "output_type": "stream",
     "text": [
      " 3 4\n",
      " 1 3 1 5\n",
      " 2 2 4 1\n",
      " 5 0 2 3\n"
     ]
    },
    {
     "name": "stdout",
     "output_type": "stream",
     "text": [
      "16\n"
     ]
    }
   ],
   "source": [
    "# 금광 문제\n",
    "def max_gold(n, m, gold_mine):\n",
    "    dp = [[0] * m for _ in range(n)]  # DP 테이블 초기화\n",
    "\n",
    "    # 첫 번째 열에 대해 초기화\n",
    "    for i in range(n):\n",
    "        dp[i][0] = gold_mine[i][0]\n",
    "\n",
    "    # DP 테이블 채우기\n",
    "    for j in range(1, m):\n",
    "        for i in range(n):\n",
    "            # 왼쪽 위에서 오는 경우, 왼쪽에서 오는 경우, 왼쪽 아래에서 오는 경우 중 최대값을 선택\n",
    "            left_up = dp[i-1][j-1] if i > 0 else 0\n",
    "            left = dp[i][j-1]\n",
    "            left_down = dp[i+1][j-1] if i < n-1 else 0\n",
    "\n",
    "            dp[i][j] = gold_mine[i][j] + max(left_up, left, left_down)\n",
    "\n",
    "    # 마지막 열에서 최대값 찾기\n",
    "    max_gold_col = max(dp[i][m-1] for i in range(n))\n",
    "    return max_gold_col\n",
    "\n",
    "# 입력 예시\n",
    "n, m = map(int, input().split())  # 행, 열 수\n",
    "gold_mine = [list(map(int, input().split())) for _ in range(n)]\n",
    "\n",
    "print(max_gold(n, m, gold_mine))\n"
   ]
  },
  {
   "cell_type": "code",
   "execution_count": 6,
   "id": "31547c52-b56d-4714-b3c0-00e5eb567ec8",
   "metadata": {},
   "outputs": [
    {
     "name": "stdin",
     "output_type": "stream",
     "text": [
      " 5\n",
      " 10 20 15 25 10\n"
     ]
    },
    {
     "name": "stdout",
     "output_type": "stream",
     "text": [
      "35\n"
     ]
    }
   ],
   "source": [
    "# 계단 오르기\n",
    "def min_score_stairs(n, scores):\n",
    "    dp = [0] * n\n",
    "\n",
    "    dp[0] = scores[0]\n",
    "    dp[1] = scores[1] + scores[0]\n",
    "    \n",
    "    for i in range(2, n):\n",
    "        dp[i] = min(dp[i-2] + scores[i], dp[i-3] + scores[i-1] + scores[i])\n",
    "\n",
    "    return dp[n-1]\n",
    "\n",
    "# 입력 예시\n",
    "n = int(input())\n",
    "scores = list(map(int, input().split()))\n",
    "\n",
    "print(min_score_stairs(n, scores))\n"
   ]
  },
  {
   "cell_type": "code",
   "execution_count": null,
   "id": "44261bc7-6c66-4a06-8cdf-92d0eec55d9d",
   "metadata": {},
   "outputs": [],
   "source": []
  }
 ],
 "metadata": {
  "kernelspec": {
   "display_name": "Python 3 (ipykernel)",
   "language": "python",
   "name": "python3"
  },
  "language_info": {
   "codemirror_mode": {
    "name": "ipython",
    "version": 3
   },
   "file_extension": ".py",
   "mimetype": "text/x-python",
   "name": "python",
   "nbconvert_exporter": "python",
   "pygments_lexer": "ipython3",
   "version": "3.9.21"
  }
 },
 "nbformat": 4,
 "nbformat_minor": 5
}
