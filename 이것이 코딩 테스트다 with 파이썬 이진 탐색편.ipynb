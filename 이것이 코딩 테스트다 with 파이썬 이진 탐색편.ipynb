{
 "cells": [
  {
   "cell_type": "code",
   "execution_count": 1,
   "id": "1e093f2b",
   "metadata": {},
   "outputs": [
    {
     "name": "stdout",
     "output_type": "stream",
     "text": [
      "원소가 3 번째 인덱스에 있음\n"
     ]
    }
   ],
   "source": [
    "# 재귀 함수로 구현한 이진 탐색\n",
    "def binary_search(array, target, start, end):\n",
    "    if start > end:\n",
    "        return None  # 찾지 못한 경우\n",
    "\n",
    "    mid = (start + end) // 2  # 중간 인덱스 계산\n",
    "\n",
    "    if array[mid] == target:\n",
    "        return mid  # 원하는 값 찾음\n",
    "    elif array[mid] > target:\n",
    "        return binary_search(array, target, start, mid - 1)  # 왼쪽 탐색\n",
    "    else:\n",
    "        return binary_search(array, target, mid + 1, end)  # 오른쪽 탐색\n",
    "\n",
    "# 예제 사용\n",
    "arr = [1, 3, 5, 7, 9, 11, 13, 15]\n",
    "target = 7\n",
    "result = binary_search(arr, target, 0, len(arr) - 1)\n",
    "\n",
    "if result is not None:\n",
    "    print(f\"원소가 {result} 번째 인덱스에 있음\")\n",
    "else:\n",
    "    print(\"원소가 배열에 없음\")\n"
   ]
  },
  {
   "cell_type": "code",
   "execution_count": 2,
   "id": "d85ab064-fde1-46b6-8743-e7fe51ee1023",
   "metadata": {},
   "outputs": [
    {
     "name": "stdout",
     "output_type": "stream",
     "text": [
      "원소가 3 번째 인덱스에 있음\n"
     ]
    }
   ],
   "source": [
    "# 반복문으로 구현한 이진 탐색\n",
    "def binary_search_iter(array, target):\n",
    "    start, end = 0, len(array) - 1\n",
    "\n",
    "    while start <= end:\n",
    "        mid = (start + end) // 2\n",
    "\n",
    "        if array[mid] == target:\n",
    "            return mid  # 원하는 값 찾음\n",
    "        elif array[mid] > target:\n",
    "            end = mid - 1  # 왼쪽으로 이동\n",
    "        else:\n",
    "            start = mid + 1  # 오른쪽으로 이동\n",
    "\n",
    "    return None  # 찾지 못한 경우\n",
    "\n",
    "# 예제 사용\n",
    "arr = [1, 3, 5, 7, 9, 11, 13, 15]\n",
    "target = 7\n",
    "result = binary_search_iter(arr, target)\n",
    "\n",
    "if result is not None:\n",
    "    print(f\"원소가 {result} 번째 인덱스에 있음\")\n",
    "else:\n",
    "    print(\"원소가 배열에 없음\")\n"
   ]
  },
  {
   "cell_type": "code",
   "execution_count": 3,
   "id": "c1e84c24-cb77-429b-a5aa-a26f1d21e309",
   "metadata": {},
   "outputs": [
    {
     "name": "stdout",
     "output_type": "stream",
     "text": [
      "7이 들어갈 왼쪽 인덱스: 3, 오른쪽 인덱스: 4\n"
     ]
    }
   ],
   "source": [
    "# 파이썬 bisect 모듈을 활용한 이진 탐색\n",
    "from bisect import bisect_left, bisect_right\n",
    "\n",
    "arr = [1, 3, 5, 7, 9, 11, 13, 15]\n",
    "\n",
    "# target이 들어갈 위치 찾기\n",
    "left_index = bisect_left(arr, 7)\n",
    "right_index = bisect_right(arr, 7)\n",
    "\n",
    "print(f\"7이 들어갈 왼쪽 인덱스: {left_index}, 오른쪽 인덱스: {right_index}\")\n"
   ]
  },
  {
   "cell_type": "code",
   "execution_count": 5,
   "id": "b3ebdd38-a4b3-4c40-9537-8d0041b4114e",
   "metadata": {},
   "outputs": [
    {
     "name": "stdin",
     "output_type": "stream",
     "text": [
      " 5\n",
      " 8 3 7 9 2\n",
      " 3\n",
      " 5 7 9\n"
     ]
    },
    {
     "name": "stdout",
     "output_type": "stream",
     "text": [
      "no yes yes "
     ]
    }
   ],
   "source": [
    "# 이진 탐색 문제 예\n",
    "def binary_search(arr, target, start, end):\n",
    "    while start <= end:\n",
    "        mid = (start + end) // 2\n",
    "        if arr[mid] == target:\n",
    "            return True\n",
    "        elif arr[mid] > target:\n",
    "            end = mid - 1\n",
    "        else:\n",
    "            start = mid + 1\n",
    "    return False\n",
    "\n",
    "# 입력 예제\n",
    "N = int(input())  # 가게에 있는 부품 개수\n",
    "store_parts = list(map(int, input().split()))  # 부품 리스트\n",
    "store_parts.sort()  # 이진 탐색을 위해 정렬\n",
    "\n",
    "M = int(input())  # 손님이 찾는 부품 개수\n",
    "customer_parts = list(map(int, input().split()))  # 찾을 부품 리스트\n",
    "\n",
    "# 결과 출력\n",
    "for part in customer_parts:\n",
    "    if binary_search(store_parts, part, 0, N - 1):\n",
    "        print(\"yes\", end=\" \")\n",
    "    else:\n",
    "        print(\"no\", end=\" \")\n"
   ]
  }
 ],
 "metadata": {
  "kernelspec": {
   "display_name": "Python 3 (ipykernel)",
   "language": "python",
   "name": "python3"
  },
  "language_info": {
   "codemirror_mode": {
    "name": "ipython",
    "version": 3
   },
   "file_extension": ".py",
   "mimetype": "text/x-python",
   "name": "python",
   "nbconvert_exporter": "python",
   "pygments_lexer": "ipython3",
   "version": "3.9.21"
  }
 },
 "nbformat": 4,
 "nbformat_minor": 5
}
